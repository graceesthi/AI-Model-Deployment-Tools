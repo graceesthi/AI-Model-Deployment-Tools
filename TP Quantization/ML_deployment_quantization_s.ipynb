{
 "cells": [
  {
   "cell_type": "markdown",
   "metadata": {
    "id": "Yu3fPSrYrbGr"
   },
   "source": [
    "# Quantization study\n",
    "\n",
    "In this project, you will learn tow techniques to quantize DL models.\n",
    "You will train a model to recognize hand written digits (mnist dataset), then you will quantize trained model and compare:\n",
    "- Complexity\n",
    "- Size\n",
    "- Accuracy"
   ]
  },
  {
   "cell_type": "markdown",
   "metadata": {
    "id": "NGWtvoSssLdQ"
   },
   "source": [
    "## importation stuff"
   ]
  },
  {
   "cell_type": "code",
   "execution_count": 1,
   "metadata": {
    "id": "D7aXqSy8rUQI"
   },
   "outputs": [
    {
     "name": "stderr",
     "output_type": "stream",
     "text": [
      "c:\\ProgramData\\Anaconda3\\lib\\site-packages\\scipy\\__init__.py:155: UserWarning: A NumPy version >=1.18.5 and <1.25.0 is required for this version of SciPy (detected version 1.26.4\n",
      "  warnings.warn(f\"A NumPy version >={np_minversion} and <{np_maxversion}\"\n"
     ]
    }
   ],
   "source": [
    "import tensorflow as tf\n",
    "from tensorflow import keras\n",
    "import matplotlib.pyplot as plt\n",
    "%matplotlib inline\n",
    "import numpy as np"
   ]
  },
  {
   "cell_type": "markdown",
   "metadata": {
    "id": "ABMnXZwLsR0p"
   },
   "source": [
    "## Load mnist dataset and split into train and test parts\n"
   ]
  },
  {
   "cell_type": "code",
   "execution_count": 2,
   "metadata": {
    "colab": {
     "base_uri": "https://localhost:8080/"
    },
    "id": "jQihiUgCsbQb",
    "outputId": "2326413b-f212-4271-84d1-1466dd89f85e"
   },
   "outputs": [
    {
     "data": {
      "text/plain": [
       "(((60000, 28, 28), (60000,)), ((10000, 28, 28), (10000,)))"
      ]
     },
     "execution_count": 2,
     "metadata": {},
     "output_type": "execute_result"
    }
   ],
   "source": [
    "(x_train, y_train), (x_test, y_test) = keras.datasets.mnist.load_data()\n",
    "# print the number of images\n",
    "(x_train.shape, y_train.shape), (x_test.shape, y_test.shape)"
   ]
  },
  {
   "cell_type": "markdown",
   "metadata": {
    "id": "M4o4Qm6msocm"
   },
   "source": [
    "## check the dimension of dataset images\n",
    "### and plot one image"
   ]
  },
  {
   "cell_type": "code",
   "execution_count": 3,
   "metadata": {
    "colab": {
     "base_uri": "https://localhost:8080/"
    },
    "id": "s_xfweeUshgw",
    "outputId": "e9dcb2fd-f38b-4192-893c-304e223899ed"
   },
   "outputs": [
    {
     "name": "stdout",
     "output_type": "stream",
     "text": [
      "(28, 28)\n"
     ]
    }
   ],
   "source": [
    "#print the shape of one image\n",
    "print(x_train[0].shape)"
   ]
  },
  {
   "cell_type": "code",
   "execution_count": 4,
   "metadata": {
    "colab": {
     "base_uri": "https://localhost:8080/",
     "height": 292
    },
    "id": "MFY_Iuhms0Z5",
    "outputId": "7e5fe879-a03b-45f2-953d-98837c4e9286"
   },
   "outputs": [
    {
     "data": {
      "text/plain": [
       "<matplotlib.image.AxesImage at 0x19160fc5280>"
      ]
     },
     "execution_count": 4,
     "metadata": {},
     "output_type": "execute_result"
    },
    {
     "data": {
      "image/png": "[encoded data removed]",
      "text/plain": [
       "<Figure size 640x480 with 1 Axes>"
      ]
     },
     "metadata": {},
     "output_type": "display_data"
    }
   ],
   "source": [
    "# plt one image\n",
    "plt.imshow(x_train[0])"
   ]
  },
  {
   "cell_type": "markdown",
   "metadata": {
    "id": "McVO78Yus3G0"
   },
   "source": [
    "## Normalize Images\n"
   ]
  },
  {
   "cell_type": "code",
   "execution_count": 5,
   "metadata": {
    "id": "mOPOHePTs8IC"
   },
   "outputs": [],
   "source": [
    "# normalize images\n",
    "X_train = x_train/255\n",
    "X_test = x_test/255"
   ]
  },
  {
   "cell_type": "markdown",
   "metadata": {
    "id": "YsjwtN9ctAl7"
   },
   "source": [
    "## Use Flatten layer and Dense (simple model)\n",
    "\n",
    "- so flatten your data\n",
    "X_train_flattened = X_train.reshape(len(X_train), 28*28)\n",
    "X_test_flattened = X_test.reshape(len(X_test), 28*28)"
   ]
  },
  {
   "cell_type": "code",
   "execution_count": 6,
   "metadata": {
    "colab": {
     "base_uri": "https://localhost:8080/"
    },
    "id": "rmbVhQ1DtXAW",
    "outputId": "6429bcd1-2aea-45e3-f11f-cda77e4023a5"
   },
   "outputs": [
    {
     "data": {
      "text/plain": [
       "(60000, 784)"
      ]
     },
     "execution_count": 6,
     "metadata": {},
     "output_type": "execute_result"
    }
   ],
   "source": [
    "X_train_flattened = X_train.reshape(len(X_train), 28*28)\n",
    "X_test_flattened = X_test.reshape(len(X_test), 28*28)\n",
    "X_train_flattened.shape"
   ]
  },
  {
   "cell_type": "code",
   "execution_count": 7,
   "metadata": {
    "colab": {
     "base_uri": "https://localhost:8080/"
    },
    "id": "QSWR6uw8tcyv",
    "outputId": "e39e25b9-ce20-40a0-df7d-e7cded494f6a"
   },
   "outputs": [
    {
     "name": "stderr",
     "output_type": "stream",
     "text": [
      "C:\\Users\\thioy\\AppData\\Roaming\\Python\\Python39\\site-packages\\keras\\src\\layers\\reshaping\\flatten.py:37: UserWarning: Do not pass an `input_shape`/`input_dim` argument to a layer. When using Sequential models, prefer using an `Input(shape)` object as the first layer in the model instead.\n",
      "  super().__init__(**kwargs)\n"
     ]
    },
    {
     "data": {
      "text/html": [
       "<pre style=\"white-space:pre;overflow-x:auto;line-height:normal;font-family:Menlo,'DejaVu Sans Mono',consolas,'Courier New',monospace\"><span style=\"font-weight: bold\">Model: \"sequential\"</span>\n",
       "</pre>\n"
      ],
      "text/plain": [
       "\u001b[1mModel: \"sequential\"\u001b[0m\n"
      ]
     },
     "metadata": {},
     "output_type": "display_data"
    },
    {
     "data": {
      "text/html": [
       "<pre style=\"white-space:pre;overflow-x:auto;line-height:normal;font-family:Menlo,'DejaVu Sans Mono',consolas,'Courier New',monospace\">┏━━━━━━━━━━━━━━━━━━━━━━━━━━━━━━━━━┳━━━━━━━━━━━━━━━━━━━━━━━━┳━━━━━━━━━━━━━━━┓\n",
       "┃<span style=\"font-weight: bold\"> Layer (type)                    </span>┃<span style=\"font-weight: bold\"> Output Shape           </span>┃<span style=\"font-weight: bold\">       Param # </span>┃\n",
       "┡━━━━━━━━━━━━━━━━━━━━━━━━━━━━━━━━━╇━━━━━━━━━━━━━━━━━━━━━━━━╇━━━━━━━━━━━━━━━┩\n",
       "│ flatten (<span style=\"color: #0087ff; text-decoration-color: #0087ff\">Flatten</span>)               │ (<span style=\"color: #00d7ff; text-decoration-color: #00d7ff\">None</span>, <span style=\"color: #00af00; text-decoration-color: #00af00\">784</span>)            │             <span style=\"color: #00af00; text-decoration-color: #00af00\">0</span> │\n",
       "├─────────────────────────────────┼────────────────────────┼───────────────┤\n",
       "│ dense (<span style=\"color: #0087ff; text-decoration-color: #0087ff\">Dense</span>)                   │ (<span style=\"color: #00d7ff; text-decoration-color: #00d7ff\">None</span>, <span style=\"color: #00af00; text-decoration-color: #00af00\">100</span>)            │        <span style=\"color: #00af00; text-decoration-color: #00af00\">78,500</span> │\n",
       "├─────────────────────────────────┼────────────────────────┼───────────────┤\n",
       "│ dense_1 (<span style=\"color: #0087ff; text-decoration-color: #0087ff\">Dense</span>)                 │ (<span style=\"color: #00d7ff; text-decoration-color: #00d7ff\">None</span>, <span style=\"color: #00af00; text-decoration-color: #00af00\">10</span>)             │         <span style=\"color: #00af00; text-decoration-color: #00af00\">1,010</span> │\n",
       "└─────────────────────────────────┴────────────────────────┴───────────────┘\n",
       "</pre>\n"
      ],
      "text/plain": [
       "┏━━━━━━━━━━━━━━━━━━━━━━━━━━━━━━━━━┳━━━━━━━━━━━━━━━━━━━━━━━━┳━━━━━━━━━━━━━━━┓\n",
       "┃\u001b[1m \u001b[0m\u001b[1mLayer (type)                   \u001b[0m\u001b[1m \u001b[0m┃\u001b[1m \u001b[0m\u001b[1mOutput Shape          \u001b[0m\u001b[1m \u001b[0m┃\u001b[1m \u001b[0m\u001b[1m      Param #\u001b[0m\u001b[1m \u001b[0m┃\n",
       "┡━━━━━━━━━━━━━━━━━━━━━━━━━━━━━━━━━╇━━━━━━━━━━━━━━━━━━━━━━━━╇━━━━━━━━━━━━━━━┩\n",
       "│ flatten (\u001b[38;5;33mFlatten\u001b[0m)               │ (\u001b[38;5;45mNone\u001b[0m, \u001b[38;5;34m784\u001b[0m)            │             \u001b[38;5;34m0\u001b[0m │\n",
       "├─────────────────────────────────┼────────────────────────┼───────────────┤\n",
       "│ dense (\u001b[38;5;33mDense\u001b[0m)                   │ (\u001b[38;5;45mNone\u001b[0m, \u001b[38;5;34m100\u001b[0m)            │        \u001b[38;5;34m78,500\u001b[0m │\n",
       "├─────────────────────────────────┼────────────────────────┼───────────────┤\n",
       "│ dense_1 (\u001b[38;5;33mDense\u001b[0m)                 │ (\u001b[38;5;45mNone\u001b[0m, \u001b[38;5;34m10\u001b[0m)             │         \u001b[38;5;34m1,010\u001b[0m │\n",
       "└─────────────────────────────────┴────────────────────────┴───────────────┘\n"
      ]
     },
     "metadata": {},
     "output_type": "display_data"
    },
    {
     "data": {
      "text/html": [
       "<pre style=\"white-space:pre;overflow-x:auto;line-height:normal;font-family:Menlo,'DejaVu Sans Mono',consolas,'Courier New',monospace\"><span style=\"font-weight: bold\"> Total params: </span><span style=\"color: #00af00; text-decoration-color: #00af00\">79,510</span> (310.59 KB)\n",
       "</pre>\n"
      ],
      "text/plain": [
       "\u001b[1m Total params: \u001b[0m\u001b[38;5;34m79,510\u001b[0m (310.59 KB)\n"
      ]
     },
     "metadata": {},
     "output_type": "display_data"
    },
    {
     "data": {
      "text/html": [
       "<pre style=\"white-space:pre;overflow-x:auto;line-height:normal;font-family:Menlo,'DejaVu Sans Mono',consolas,'Courier New',monospace\"><span style=\"font-weight: bold\"> Trainable params: </span><span style=\"color: #00af00; text-decoration-color: #00af00\">79,510</span> (310.59 KB)\n",
       "</pre>\n"
      ],
      "text/plain": [
       "\u001b[1m Trainable params: \u001b[0m\u001b[38;5;34m79,510\u001b[0m (310.59 KB)\n"
      ]
     },
     "metadata": {},
     "output_type": "display_data"
    },
    {
     "data": {
      "text/html": [
       "<pre style=\"white-space:pre;overflow-x:auto;line-height:normal;font-family:Menlo,'DejaVu Sans Mono',consolas,'Courier New',monospace\"><span style=\"font-weight: bold\"> Non-trainable params: </span><span style=\"color: #00af00; text-decoration-color: #00af00\">0</span> (0.00 B)\n",
       "</pre>\n"
      ],
      "text/plain": [
       "\u001b[1m Non-trainable params: \u001b[0m\u001b[38;5;34m0\u001b[0m (0.00 B)\n"
      ]
     },
     "metadata": {},
     "output_type": "display_data"
    }
   ],
   "source": [
    "model = keras.Sequential([\n",
    "    keras.layers.Flatten(input_shape=(28, 28)),\n",
    "    keras.layers.Dense(100, activation='relu'),\n",
    "    keras.layers.Dense(10, activation='sigmoid')\n",
    "])\n",
    "\n",
    "model.compile(optimizer='adam',\n",
    "              loss='sparse_categorical_crossentropy',\n",
    "              metrics=['accuracy'])\n",
    "\n",
    "model.summary()\n",
    "\n"
   ]
  },
  {
   "cell_type": "code",
   "execution_count": 8,
   "metadata": {
    "id": "Zy3Wz7lM3oz9"
   },
   "outputs": [
    {
     "name": "stdout",
     "output_type": "stream",
     "text": [
      "Epoch 1/15\n",
      "\u001b[1m1875/1875\u001b[0m \u001b[32m━━━━━━━━━━━━━━━━━━━━\u001b[0m\u001b[37m\u001b[0m \u001b[1m3s\u001b[0m 1ms/step - accuracy: 0.8739 - loss: 0.4536\n",
      "Epoch 2/15\n",
      "\u001b[1m1875/1875\u001b[0m \u001b[32m━━━━━━━━━━━━━━━━━━━━\u001b[0m\u001b[37m\u001b[0m \u001b[1m2s\u001b[0m 1ms/step - accuracy: 0.9621 - loss: 0.1324\n",
      "Epoch 3/15\n",
      "\u001b[1m1875/1875\u001b[0m \u001b[32m━━━━━━━━━━━━━━━━━━━━\u001b[0m\u001b[37m\u001b[0m \u001b[1m2s\u001b[0m 1ms/step - accuracy: 0.9749 - loss: 0.0847\n",
      "Epoch 4/15\n",
      "\u001b[1m1875/1875\u001b[0m \u001b[32m━━━━━━━━━━━━━━━━━━━━\u001b[0m\u001b[37m\u001b[0m \u001b[1m2s\u001b[0m 1ms/step - accuracy: 0.9806 - loss: 0.0644\n",
      "Epoch 5/15\n",
      "\u001b[1m1875/1875\u001b[0m \u001b[32m━━━━━━━━━━━━━━━━━━━━\u001b[0m\u001b[37m\u001b[0m \u001b[1m2s\u001b[0m 1ms/step - accuracy: 0.9843 - loss: 0.0502\n",
      "Epoch 6/15\n",
      "\u001b[1m1875/1875\u001b[0m \u001b[32m━━━━━━━━━━━━━━━━━━━━\u001b[0m\u001b[37m\u001b[0m \u001b[1m2s\u001b[0m 1ms/step - accuracy: 0.9889 - loss: 0.0383\n",
      "Epoch 7/15\n",
      "\u001b[1m1875/1875\u001b[0m \u001b[32m━━━━━━━━━━━━━━━━━━━━\u001b[0m\u001b[37m\u001b[0m \u001b[1m2s\u001b[0m 1ms/step - accuracy: 0.9899 - loss: 0.0329\n",
      "Epoch 8/15\n",
      "\u001b[1m1875/1875\u001b[0m \u001b[32m━━━━━━━━━━━━━━━━━━━━\u001b[0m\u001b[37m\u001b[0m \u001b[1m2s\u001b[0m 1ms/step - accuracy: 0.9932 - loss: 0.0248\n",
      "Epoch 9/15\n",
      "\u001b[1m1875/1875\u001b[0m \u001b[32m━━━━━━━━━━━━━━━━━━━━\u001b[0m\u001b[37m\u001b[0m \u001b[1m2s\u001b[0m 1ms/step - accuracy: 0.9945 - loss: 0.0190\n",
      "Epoch 10/15\n",
      "\u001b[1m1875/1875\u001b[0m \u001b[32m━━━━━━━━━━━━━━━━━━━━\u001b[0m\u001b[37m\u001b[0m \u001b[1m2s\u001b[0m 1ms/step - accuracy: 0.9956 - loss: 0.0160\n",
      "Epoch 11/15\n",
      "\u001b[1m1875/1875\u001b[0m \u001b[32m━━━━━━━━━━━━━━━━━━━━\u001b[0m\u001b[37m\u001b[0m \u001b[1m2s\u001b[0m 1ms/step - accuracy: 0.9962 - loss: 0.0146\n",
      "Epoch 12/15\n",
      "\u001b[1m1875/1875\u001b[0m \u001b[32m━━━━━━━━━━━━━━━━━━━━\u001b[0m\u001b[37m\u001b[0m \u001b[1m2s\u001b[0m 1ms/step - accuracy: 0.9962 - loss: 0.0124\n",
      "Epoch 13/15\n",
      "\u001b[1m1875/1875\u001b[0m \u001b[32m━━━━━━━━━━━━━━━━━━━━\u001b[0m\u001b[37m\u001b[0m \u001b[1m2s\u001b[0m 1ms/step - accuracy: 0.9978 - loss: 0.0089\n",
      "Epoch 14/15\n",
      "\u001b[1m1875/1875\u001b[0m \u001b[32m━━━━━━━━━━━━━━━━━━━━\u001b[0m\u001b[37m\u001b[0m \u001b[1m3s\u001b[0m 1ms/step - accuracy: 0.9974 - loss: 0.0096\n",
      "Epoch 15/15\n",
      "\u001b[1m1875/1875\u001b[0m \u001b[32m━━━━━━━━━━━━━━━━━━━━\u001b[0m\u001b[37m\u001b[0m \u001b[1m2s\u001b[0m 1ms/step - accuracy: 0.9974 - loss: 0.0086\n"
     ]
    },
    {
     "data": {
      "text/plain": [
       "<keras.src.callbacks.history.History at 0x191645efca0>"
      ]
     },
     "execution_count": 8,
     "metadata": {},
     "output_type": "execute_result"
    }
   ],
   "source": [
    "model.fit(X_train, y_train, epochs=15)"
   ]
  },
  {
   "cell_type": "markdown",
   "metadata": {
    "id": "_r-tuAdftf-n"
   },
   "source": [
    "##Model Evaluation\n",
    "model.evaluate(?)"
   ]
  },
  {
   "cell_type": "code",
   "execution_count": 9,
   "metadata": {
    "colab": {
     "base_uri": "https://localhost:8080/"
    },
    "id": "9QxS6QBCtz2g",
    "outputId": "22584d59-74b4-4504-c6ec-071fefa6f048"
   },
   "outputs": [
    {
     "name": "stdout",
     "output_type": "stream",
     "text": [
      "\u001b[1m313/313\u001b[0m \u001b[32m━━━━━━━━━━━━━━━━━━━━\u001b[0m\u001b[37m\u001b[0m \u001b[1m0s\u001b[0m 834us/step - accuracy: 0.9717 - loss: 0.1265\n"
     ]
    },
    {
     "data": {
      "text/plain": [
       "[0.10399957001209259, 0.9761999845504761]"
      ]
     },
     "execution_count": 9,
     "metadata": {},
     "output_type": "execute_result"
    }
   ],
   "source": [
    "model.evaluate(X_test, y_test)"
   ]
  },
  {
   "cell_type": "markdown",
   "metadata": {
    "id": "CdaTcWYOt7sQ"
   },
   "source": [
    "## Model export\n",
    "\n",
    "save() function"
   ]
  },
  {
   "cell_type": "code",
   "execution_count": 21,
   "metadata": {
    "colab": {
     "base_uri": "https://localhost:8080/"
    },
    "id": "gzvI99ywt65p",
    "outputId": "a433fbf1-1a89-4ffd-e8bf-7910d382b112"
   },
   "outputs": [],
   "source": [
    "model.save(\"./saved_model.keras\")\n"
   ]
  },
  {
   "cell_type": "markdown",
   "metadata": {
    "id": "HBQpeb-xuI7j"
   },
   "source": [
    "# Post training Quantaization\n",
    "\n",
    "to learn more read the following article https://www.tensorflow.org/model_optimization/guide/quantization/post_training?hl=fr\n",
    "\n",
    "Now we will import the saved model, and optimize it.\n",
    "Saving one version without any optimization option and another with will allow us to evaluate the gain of quantization"
   ]
  },
  {
   "cell_type": "markdown",
   "metadata": {
    "id": "byWE8o2zvZRg"
   },
   "source": [
    "### Quantization option (8 bits)"
   ]
  },
  {
   "cell_type": "code",
   "execution_count": null,
   "metadata": {
    "id": "YISh7h8fuTQQ"
   },
   "outputs": [
    {
     "name": "stdout",
     "output_type": "stream",
     "text": [
      "INFO:tensorflow:Assets written to: C:\\Users\\thioy\\AppData\\Local\\Temp\\tmpkq3klcsz\\assets\n"
     ]
    },
    {
     "name": "stderr",
     "output_type": "stream",
     "text": [
      "INFO:tensorflow:Assets written to: C:\\Users\\thioy\\AppData\\Local\\Temp\\tmpkq3klcsz\\assets\n"
     ]
    },
    {
     "name": "stdout",
     "output_type": "stream",
     "text": [
      "Saved artifact at 'C:\\Users\\thioy\\AppData\\Local\\Temp\\tmpkq3klcsz'. The following endpoints are available:\n",
      "\n",
      "* Endpoint 'serve'\n",
      "  args_0 (POSITIONAL_ONLY): TensorSpec(shape=(None, 28, 28), dtype=tf.float32, name='input_layer')\n",
      "Output Type:\n",
      "  TensorSpec(shape=(None, 10), dtype=tf.float32, name=None)\n",
      "Captures:\n",
      "  1722401297680: TensorSpec(shape=(), dtype=tf.resource, name=None)\n",
      "  1722401297328: TensorSpec(shape=(), dtype=tf.resource, name=None)\n",
      "  1722401320272: TensorSpec(shape=(), dtype=tf.resource, name=None)\n",
      "  1722401320096: TensorSpec(shape=(), dtype=tf.resource, name=None)\n"
     ]
    }
   ],
   "source": [
    "model = keras.models.load_model(\"./saved_model.keras\")\n",
    "converter = tf.lite.TFLiteConverter.from_keras_model(model)\n",
    "converter.optimizations = [tf.lite.Optimize.DEFAULT]\n",
    "tflite_quant_model = converter.convert()\n",
    "\n",
    "\n",
    "with open(\"tflite_quant_model.tflite\", \"wb\") as f:\n",
    "    f.write(tflite_quant_model)"
   ]
  },
  {
   "cell_type": "markdown",
   "metadata": {
    "id": "qkVTRppdvjhP"
   },
   "source": [
    "### No Quantization"
   ]
  },
  {
   "cell_type": "code",
   "execution_count": 24,
   "metadata": {
    "id": "6--5MwByvrL_"
   },
   "outputs": [
    {
     "name": "stdout",
     "output_type": "stream",
     "text": [
      "INFO:tensorflow:Assets written to: C:\\Users\\thioy\\AppData\\Local\\Temp\\tmphxwxco6s\\assets\n"
     ]
    },
    {
     "name": "stderr",
     "output_type": "stream",
     "text": [
      "INFO:tensorflow:Assets written to: C:\\Users\\thioy\\AppData\\Local\\Temp\\tmphxwxco6s\\assets\n"
     ]
    },
    {
     "name": "stdout",
     "output_type": "stream",
     "text": [
      "Saved artifact at 'C:\\Users\\thioy\\AppData\\Local\\Temp\\tmphxwxco6s'. The following endpoints are available:\n",
      "\n",
      "* Endpoint 'serve'\n",
      "  args_0 (POSITIONAL_ONLY): TensorSpec(shape=(None, 28, 28), dtype=tf.float32, name='input_layer')\n",
      "Output Type:\n",
      "  TensorSpec(shape=(None, 10), dtype=tf.float32, name=None)\n",
      "Captures:\n",
      "  1722401297680: TensorSpec(shape=(), dtype=tf.resource, name=None)\n",
      "  1722401297328: TensorSpec(shape=(), dtype=tf.resource, name=None)\n",
      "  1722401320272: TensorSpec(shape=(), dtype=tf.resource, name=None)\n",
      "  1722401320096: TensorSpec(shape=(), dtype=tf.resource, name=None)\n"
     ]
    }
   ],
   "source": [
    "converter = tf.lite.TFLiteConverter.from_keras_model(model)\n",
    "tflite_model = converter.convert()\n",
    "\n",
    "\n",
    "with open(\"tflite_model.tflite\", \"wb\") as f:\n",
    "    f.write(tflite_model)"
   ]
  },
  {
   "cell_type": "markdown",
   "metadata": {
    "id": "HcqU1GgcwyE5"
   },
   "source": [
    "# Compare the size of two models\n",
    "\n"
   ]
  },
  {
   "cell_type": "code",
   "execution_count": 25,
   "metadata": {
    "colab": {
     "base_uri": "https://localhost:8080/"
    },
    "id": "Q0J5iWw6v1FT",
    "outputId": "4df61938-8fcf-49c7-d20c-6a833caf6cc8"
   },
   "outputs": [
    {
     "name": "stdout",
     "output_type": "stream",
     "text": [
      "The quantized model is approximately 1/3.72 the size of the non-quantized model.\n"
     ]
    }
   ],
   "source": [
    "import os\n",
    "# Compare the size of two models\n",
    "quant_model_size = os.path.getsize(\"tflite_quant_model.tflite\")\n",
    "non_quant_model_size = os.path.getsize(\"tflite_model.tflite\")\n",
    "gain_rate = non_quant_model_size / quant_model_size \n",
    "\n",
    "print(f\"The quantized model is approximately 1/{gain_rate:.2f} the size of the non-quantized model.\")"
   ]
  },
  {
   "cell_type": "markdown",
   "metadata": {
    "id": "nWIdMxLKxWlw"
   },
   "source": [
    "#Quantization aware training"
   ]
  },
  {
   "cell_type": "code",
   "execution_count": 42,
   "metadata": {
    "colab": {
     "base_uri": "https://localhost:8080/"
    },
    "id": "34Wfc0HexzWy",
    "outputId": "1d09819c-ecff-47f7-b076-ff9336f23a88"
   },
   "outputs": [
    {
     "name": "stdout",
     "output_type": "stream",
     "text": [
      "Defaulting to user installation because normal site-packages is not writeable\n",
      "Requirement already satisfied: h5py in c:\\users\\thioy\\appdata\\roaming\\python\\python39\\site-packages (3.10.0)\n",
      "Requirement already satisfied: numpy>=1.17.3 in c:\\users\\thioy\\appdata\\roaming\\python\\python39\\site-packages (from h5py) (1.24.4)\n"
     ]
    },
    {
     "name": "stderr",
     "output_type": "stream",
     "text": [
      "\n",
      "[notice] A new release of pip is available: 24.2 -> 24.3.1\n",
      "[notice] To update, run: python.exe -m pip install --upgrade pip\n"
     ]
    },
    {
     "name": "stdout",
     "output_type": "stream",
     "text": [
      "Defaulting to user installation because normal site-packages is not writeable\n",
      "Requirement already satisfied: typing-extensions in c:\\users\\thioy\\appdata\\roaming\\python\\python39\\site-packages (4.10.0)\n"
     ]
    },
    {
     "name": "stderr",
     "output_type": "stream",
     "text": [
      "\n",
      "[notice] A new release of pip is available: 24.2 -> 24.3.1\n",
      "[notice] To update, run: python.exe -m pip install --upgrade pip\n"
     ]
    },
    {
     "name": "stdout",
     "output_type": "stream",
     "text": [
      "Defaulting to user installation because normal site-packages is not writeable\n",
      "Requirement already satisfied: wheel in c:\\programdata\\anaconda3\\lib\\site-packages (0.37.1)\n"
     ]
    },
    {
     "name": "stderr",
     "output_type": "stream",
     "text": [
      "\n",
      "[notice] A new release of pip is available: 24.2 -> 24.3.1\n",
      "[notice] To update, run: python.exe -m pip install --upgrade pip\n"
     ]
    },
    {
     "name": "stdout",
     "output_type": "stream",
     "text": [
      "Found existing installation: tensorflow 2.15.0\n",
      "Uninstalling tensorflow-2.15.0:\n",
      "  Successfully uninstalled tensorflow-2.15.0\n"
     ]
    },
    {
     "name": "stderr",
     "output_type": "stream",
     "text": [
      "  WARNING: Failed to remove contents in a temporary directory 'C:\\Users\\thioy\\AppData\\Roaming\\Python\\Python39\\site-packages\\~.mpy'.\n",
      "  You can safely remove it manually.\n",
      "  WARNING: Failed to remove contents in a temporary directory 'C:\\Users\\thioy\\AppData\\Roaming\\Python\\Python39\\site-packages\\~l_dtypes'.\n",
      "  You can safely remove it manually.\n",
      "  WARNING: Failed to remove contents in a temporary directory 'C:\\Users\\thioy\\AppData\\Roaming\\Python\\Python39\\site-packages\\~5py'.\n",
      "  You can safely remove it manually.\n",
      "ERROR: Could not install packages due to an OSError: [WinError 5] Accès refusé: 'C:\\\\Users\\\\thioy\\\\AppData\\\\Roaming\\\\Python\\\\Python39\\\\site-packages\\\\tensorflow\\\\compiler\\\\mlir\\\\quantization\\\\tensorflow\\\\python\\\\pywrap_quantize_model.pyd'\n",
      "Check the permissions.\n",
      "\n",
      "\n",
      "[notice] A new release of pip is available: 24.2 -> 24.3.1\n",
      "[notice] To update, run: python.exe -m pip install --upgrade pip\n",
      "ERROR: pip's dependency resolver does not currently take into account all the packages that are installed. This behaviour is the source of the following dependency conflicts.\n",
      "daal4py 2021.6.0 requires daal==2021.4.0, which is not installed.\n",
      "mlflow 2.0.1 requires importlib-metadata!=4.7.0,<6,>=3.7.0, but you have importlib-metadata 6.7.0 which is incompatible.\n",
      "mlflow 2.0.1 requires packaging<22, but you have packaging 24.1 which is incompatible.\n",
      "pandas-profiling 3.4.0 requires matplotlib<3.6,>=3.2, but you have matplotlib 3.7.2 which is incompatible.\n",
      "pandas-profiling 3.4.0 requires numpy<1.24,>=1.16.0, but you have numpy 1.26.4 which is incompatible.\n",
      "pandas-profiling 3.4.0 requires pydantic<1.11,>=1.8.1, but you have pydantic 2.9.2 which is incompatible.\n",
      "pandas-profiling 3.4.0 requires seaborn<0.13,>=0.10.1, but you have seaborn 0.13.2 which is incompatible.\n",
      "pandas-profiling 3.4.0 requires tqdm<4.65,>=4.48.2, but you have tqdm 4.66.5 which is incompatible.\n",
      "pandasai 1.0.8 requires pydantic<2,>=1, but you have pydantic 2.9.2 which is incompatible.\n",
      "pycaret 3.0.4 requires numpy<1.24,>=1.21, but you have numpy 1.26.4 which is incompatible.\n",
      "sktime 0.20.0 requires numpy<1.26,>=1.21.0, but you have numpy 1.26.4 which is incompatible.\n",
      "tensorflow-intel 2.15.0 requires ml-dtypes~=0.2.0, but you have ml-dtypes 0.5.0 which is incompatible.\n",
      "scipy 1.9.1 requires numpy<1.25.0,>=1.18.5, but you have numpy 1.26.4 which is incompatible.\n",
      "\n",
      "[notice] A new release of pip is available: 24.2 -> 24.3.1\n",
      "[notice] To update, run: python.exe -m pip install --upgrade pip\n"
     ]
    }
   ],
   "source": [
    "# you may need to install tensorflow-model-optimization, to be able to quantize with training\n",
    "\n",
    "!pip install h5py\n",
    "!pip install typing-extensions\n",
    "!pip install wheel\n",
    "! pip uninstall -y tensorflow\n",
    "! pip install -q tf-nightly\n",
    "! pip install -q tensorflow-model-optimization\n"
   ]
  },
  {
   "cell_type": "code",
   "execution_count": null,
   "metadata": {
    "id": "S_xJ_sls0Q_b"
   },
   "outputs": [],
   "source": [
    "\"\"\"! pip install -q tf-nightly\n",
    "! pip install -q tensorflow-model-optimization\n",
    "\"\"\""
   ]
  },
  {
   "cell_type": "code",
   "execution_count": 43,
   "metadata": {
    "id": "85mwD8MM0Qtu"
   },
   "outputs": [
    {
     "name": "stdout",
     "output_type": "stream",
     "text": [
      "Defaulting to user installation because normal site-packages is not writeable\n",
      "Requirement already satisfied: tensorflow-model-optimization in c:\\users\\thioy\\appdata\\roaming\\python\\python39\\site-packages (0.8.0)\n",
      "Requirement already satisfied: absl-py~=1.2 in c:\\users\\thioy\\appdata\\roaming\\python\\python39\\site-packages (from tensorflow-model-optimization) (1.4.0)\n",
      "Requirement already satisfied: dm-tree~=0.1.1 in c:\\users\\thioy\\appdata\\roaming\\python\\python39\\site-packages (from tensorflow-model-optimization) (0.1.8)\n",
      "Requirement already satisfied: numpy~=1.23 in c:\\users\\thioy\\appdata\\roaming\\python\\python39\\site-packages (from tensorflow-model-optimization) (1.26.4)\n",
      "Requirement already satisfied: six~=1.14 in c:\\programdata\\anaconda3\\lib\\site-packages (from tensorflow-model-optimization) (1.16.0)\n"
     ]
    },
    {
     "name": "stderr",
     "output_type": "stream",
     "text": [
      "\n",
      "[notice] A new release of pip is available: 24.2 -> 24.3.1\n",
      "[notice] To update, run: python.exe -m pip install --upgrade pip\n"
     ]
    }
   ],
   "source": [
    "! pip install  tensorflow-model-optimization"
   ]
  },
  {
   "cell_type": "code",
   "execution_count": 45,
   "metadata": {},
   "outputs": [
    {
     "name": "stdout",
     "output_type": "stream",
     "text": [
      "Defaulting to user installation because normal site-packages is not writeable\n",
      "Requirement already satisfied: keras in c:\\users\\thioy\\appdata\\roaming\\python\\python39\\site-packages (2.15.0)\n"
     ]
    },
    {
     "name": "stderr",
     "output_type": "stream",
     "text": [
      "\n",
      "[notice] A new release of pip is available: 24.2 -> 24.3.1\n",
      "[notice] To update, run: python.exe -m pip install --upgrade pip\n"
     ]
    }
   ],
   "source": [
    "! pip install keras"
   ]
  },
  {
   "cell_type": "code",
   "execution_count": 27,
   "metadata": {},
   "outputs": [
    {
     "name": "stdout",
     "output_type": "stream",
     "text": [
      "WARNING:tensorflow:From C:\\Users\\thioy\\AppData\\Roaming\\Python\\Python39\\site-packages\\tf_keras\\src\\losses.py:2976: The name tf.losses.sparse_softmax_cross_entropy is deprecated. Please use tf.compat.v1.losses.sparse_softmax_cross_entropy instead.\n",
      "\n"
     ]
    },
    {
     "name": "stderr",
     "output_type": "stream",
     "text": [
      "WARNING:tensorflow:From C:\\Users\\thioy\\AppData\\Roaming\\Python\\Python39\\site-packages\\tf_keras\\src\\losses.py:2976: The name tf.losses.sparse_softmax_cross_entropy is deprecated. Please use tf.compat.v1.losses.sparse_softmax_cross_entropy instead.\n",
      "\n"
     ]
    }
   ],
   "source": [
    "import tensorflow as tf\n",
    "import tensorflow_model_optimization as tfmot"
   ]
  },
  {
   "cell_type": "code",
   "execution_count": null,
   "metadata": {
    "colab": {
     "base_uri": "https://localhost:8080/"
    },
    "id": "8_ZW2_saxcfQ",
    "outputId": "f5c8b7f7-dd86-4bbf-b9b2-96dc676d59d0"
   },
   "outputs": [
    {
     "ename": "ValueError",
     "evalue": "`to_quantize` can only either be a keras Sequential or Functional model.",
     "output_type": "error",
     "traceback": [
      "\u001b[1;31m---------------------------------------------------------------------------\u001b[0m",
      "\u001b[1;31mValueError\u001b[0m                                Traceback (most recent call last)",
      "Cell \u001b[1;32mIn[41], line 8\u001b[0m\n\u001b[0;32m      5\u001b[0m quantize_model \u001b[38;5;241m=\u001b[39m tfmot\u001b[38;5;241m.\u001b[39mquantization\u001b[38;5;241m.\u001b[39mkeras\u001b[38;5;241m.\u001b[39mquantize_model\n\u001b[0;32m      7\u001b[0m \u001b[38;5;66;03m# Create a quantization aware model from the pre-trained model.\u001b[39;00m\n\u001b[1;32m----> 8\u001b[0m q_aware_model \u001b[38;5;241m=\u001b[39m \u001b[43mquantize_model\u001b[49m\u001b[43m(\u001b[49m\u001b[43mmodel\u001b[49m\u001b[43m)\u001b[49m\n\u001b[0;32m     10\u001b[0m \u001b[38;5;66;03m# Define the optimizer to use for training the quantization aware model.\u001b[39;00m\n\u001b[0;32m     11\u001b[0m optimizer \u001b[38;5;241m=\u001b[39m tf\u001b[38;5;241m.\u001b[39mkeras\u001b[38;5;241m.\u001b[39moptimizers\u001b[38;5;241m.\u001b[39mAdam(learning_rate\u001b[38;5;241m=\u001b[39m\u001b[38;5;241m1e-3\u001b[39m)\n",
      "File \u001b[1;32m~\\AppData\\Roaming\\Python\\Python39\\site-packages\\tensorflow_model_optimization\\python\\core\\quantization\\keras\\quantize.py:135\u001b[0m, in \u001b[0;36mquantize_model\u001b[1;34m(to_quantize, quantized_layer_name_prefix)\u001b[0m\n\u001b[0;32m    129\u001b[0m   quantized_layer_name_prefix \u001b[38;5;241m=\u001b[39m \u001b[38;5;124m'\u001b[39m\u001b[38;5;124m'\u001b[39m\n\u001b[0;32m    131\u001b[0m \u001b[38;5;28;01mif\u001b[39;00m \u001b[38;5;129;01mnot\u001b[39;00m \u001b[38;5;28misinstance\u001b[39m(to_quantize, keras\u001b[38;5;241m.\u001b[39mSequential) \u001b[38;5;129;01mand\u001b[39;00m \u001b[38;5;129;01mnot\u001b[39;00m (\n\u001b[0;32m    132\u001b[0m     \u001b[38;5;28mhasattr\u001b[39m(to_quantize, \u001b[38;5;124m'\u001b[39m\u001b[38;5;124m_is_graph_network\u001b[39m\u001b[38;5;124m'\u001b[39m)\n\u001b[0;32m    133\u001b[0m     \u001b[38;5;129;01mand\u001b[39;00m to_quantize\u001b[38;5;241m.\u001b[39m_is_graph_network\n\u001b[0;32m    134\u001b[0m ):  \u001b[38;5;66;03m# pylint: disable=protected-access\u001b[39;00m\n\u001b[1;32m--> 135\u001b[0m   \u001b[38;5;28;01mraise\u001b[39;00m \u001b[38;5;167;01mValueError\u001b[39;00m(\n\u001b[0;32m    136\u001b[0m       \u001b[38;5;124m'\u001b[39m\u001b[38;5;124m`to_quantize` can only either be a keras Sequential or \u001b[39m\u001b[38;5;124m'\u001b[39m\n\u001b[0;32m    137\u001b[0m       \u001b[38;5;124m'\u001b[39m\u001b[38;5;124mFunctional model.\u001b[39m\u001b[38;5;124m'\u001b[39m\n\u001b[0;32m    138\u001b[0m   )\n\u001b[0;32m    140\u001b[0m annotated_model \u001b[38;5;241m=\u001b[39m quantize_annotate_model(to_quantize)\n\u001b[0;32m    141\u001b[0m \u001b[38;5;28;01mreturn\u001b[39;00m quantize_apply(\n\u001b[0;32m    142\u001b[0m     annotated_model, quantized_layer_name_prefix\u001b[38;5;241m=\u001b[39mquantized_layer_name_prefix)\n",
      "\u001b[1;31mValueError\u001b[0m: `to_quantize` can only either be a keras Sequential or Functional model."
     ]
    }
   ],
   "source": [
    "\n",
    "\n",
    "# Load the pre-trained Keras model.\n",
    "model = tf.keras.models.load_model(\"./saved_model.keras\")\n",
    "\n",
    "# Define a function to create a quantization aware model.\n",
    "quantize_model = tfmot.quantization.keras.quantize_model\n",
    "\n",
    "# Create a quantization aware model from the pre-trained model.\n",
    "q_aware_model = quantize_model(model)\n",
    "\n",
    "# Define the optimizer to use for training the quantization aware model.\n",
    "optimizer = tf.keras.optimizers.Adam(learning_rate=1e-3)\n",
    "\n",
    "# Compile the quantization aware model with the optimizer and loss function.\n",
    "q_aware_model.compile(optimizer=optimizer,\n",
    "                      loss='sparse_categorical_crossentropy',\n",
    "                      metrics=['accuracy'])\n",
    "\n",
    "# Define the dataset\n",
    "train_dataset = tf.data.Dataset.from_tensor_slices((X_train.astype('float32'), y_train))\n",
    "train_dataset = train_dataset.batch(batch_size=32)\n",
    "\n",
    "# Train the model with the quantization callback\n",
    "q_aware_model.fit(train_dataset, epochs=1)\n",
    "\n",
    "# Define a TFLite converter for the quantization aware model.\n",
    "converter = tf.lite.TFLiteConverter.from_keras_model(q_aware_model)\n",
    "\n",
    "# Set the optimizations to use for quantization.\n",
    "converter.optimizations = [tf.lite.Optimize.DEFAULT]\n",
    "\n",
    "# Set the input and output tensors of the TFLite model.\n",
    "converter.inference_input_type = tf.uint8\n",
    "converter.inference_output_type = tf.uint8\n",
    "\n",
    "# Define a representative dataset for calibration.\n",
    "#used to collect statistics about the dynamic range of the model's activations.\n",
    "#These statistics are then used to determine the scaling factors and zero points that are used during the quantization process.\n",
    "def representative_data_gen():\n",
    "    for image_batch, _ in train_dataset.take(100):     #take(100) method is used to select a sample of 100 images from the training dataset.\n",
    "        yield [image_batch]\n",
    "\n",
    "# Set the representative dataset generator for calibration.\n",
    "converter.representative_dataset = representative_data_gen\n",
    "\n",
    "# Convert the quantization aware model to a TFLite model with int8 quantization.\n",
    "tflite_quant_aware_model = converter.convert()\n",
    "\n",
    "# Save the quantized TFLite model to a file.\n",
    "with open('quantized_aware_model.tflite', 'wb') as f:\n",
    "    f.write(tflite_quant_aware_model)\n",
    "\n"
   ]
  },
  {
   "cell_type": "code",
   "execution_count": 42,
   "metadata": {},
   "outputs": [
    {
     "name": "stderr",
     "output_type": "stream",
     "text": [
      "C:\\Users\\thioy\\AppData\\Roaming\\Python\\Python39\\site-packages\\keras\\src\\saving\\saving_lib.py:719: UserWarning: Skipping variable loading for optimizer 'rmsprop', because it has 6 variables whereas the saved optimizer has 10 variables. \n",
      "  saveable.load_own_variables(weights_store.get(inner_path))\n"
     ]
    },
    {
     "ename": "ValueError",
     "evalue": "`to_annotate` can only be a `keras.Model` instance. Use the `quantize_annotate_layer` API to handle individual layers. You passed an instance of type: Sequential.",
     "output_type": "error",
     "traceback": [
      "\u001b[1;31m---------------------------------------------------------------------------\u001b[0m",
      "\u001b[1;31mValueError\u001b[0m                                Traceback (most recent call last)",
      "Cell \u001b[1;32mIn[42], line 9\u001b[0m\n\u001b[0;32m      6\u001b[0m model \u001b[38;5;241m=\u001b[39m tf\u001b[38;5;241m.\u001b[39mkeras\u001b[38;5;241m.\u001b[39mmodels\u001b[38;5;241m.\u001b[39mload_model(\u001b[38;5;124m\"\u001b[39m\u001b[38;5;124m./saved_model.keras\u001b[39m\u001b[38;5;124m\"\u001b[39m)\n\u001b[0;32m      8\u001b[0m \u001b[38;5;66;03m# Annotate and apply quantization-aware training\u001b[39;00m\n\u001b[1;32m----> 9\u001b[0m quantize_annotate_model \u001b[38;5;241m=\u001b[39m \u001b[43mtfmot\u001b[49m\u001b[38;5;241;43m.\u001b[39;49m\u001b[43mquantization\u001b[49m\u001b[38;5;241;43m.\u001b[39;49m\u001b[43mkeras\u001b[49m\u001b[38;5;241;43m.\u001b[39;49m\u001b[43mquantize_annotate_model\u001b[49m\u001b[43m(\u001b[49m\u001b[43mmodel\u001b[49m\u001b[43m)\u001b[49m\n\u001b[0;32m     10\u001b[0m q_aware_model \u001b[38;5;241m=\u001b[39m tfmot\u001b[38;5;241m.\u001b[39mquantization\u001b[38;5;241m.\u001b[39mkeras\u001b[38;5;241m.\u001b[39mquantize_apply(quantize_annotate_model)\n\u001b[0;32m     12\u001b[0m \u001b[38;5;66;03m# Define the optimizer to use for training the quantization-aware model\u001b[39;00m\n",
      "File \u001b[1;32m~\\AppData\\Roaming\\Python\\Python39\\site-packages\\tensorflow_model_optimization\\python\\core\\quantization\\keras\\quantize.py:191\u001b[0m, in \u001b[0;36mquantize_annotate_model\u001b[1;34m(to_annotate)\u001b[0m\n\u001b[0;32m    188\u001b[0m   \u001b[38;5;28;01mraise\u001b[39;00m \u001b[38;5;167;01mValueError\u001b[39;00m(\u001b[38;5;124m'\u001b[39m\u001b[38;5;124m`to_annotate` cannot be None\u001b[39m\u001b[38;5;124m'\u001b[39m)\n\u001b[0;32m    190\u001b[0m \u001b[38;5;28;01mif\u001b[39;00m \u001b[38;5;129;01mnot\u001b[39;00m \u001b[38;5;28misinstance\u001b[39m(to_annotate, keras\u001b[38;5;241m.\u001b[39mModel):\n\u001b[1;32m--> 191\u001b[0m   \u001b[38;5;28;01mraise\u001b[39;00m \u001b[38;5;167;01mValueError\u001b[39;00m(\n\u001b[0;32m    192\u001b[0m       \u001b[38;5;124m'\u001b[39m\u001b[38;5;124m`to_annotate` can only be a `keras.Model` instance. Use \u001b[39m\u001b[38;5;124m'\u001b[39m\n\u001b[0;32m    193\u001b[0m       \u001b[38;5;124m'\u001b[39m\u001b[38;5;124mthe `quantize_annotate_layer` API to handle individual layers. \u001b[39m\u001b[38;5;124m'\u001b[39m\n\u001b[0;32m    194\u001b[0m       \u001b[38;5;124m'\u001b[39m\u001b[38;5;124mYou passed an instance of type: \u001b[39m\u001b[38;5;132;01m{input}\u001b[39;00m\u001b[38;5;124m.\u001b[39m\u001b[38;5;124m'\u001b[39m\u001b[38;5;241m.\u001b[39mformat(\n\u001b[0;32m    195\u001b[0m           \u001b[38;5;28minput\u001b[39m\u001b[38;5;241m=\u001b[39mto_annotate\u001b[38;5;241m.\u001b[39m\u001b[38;5;18m__class__\u001b[39m\u001b[38;5;241m.\u001b[39m\u001b[38;5;18m__name__\u001b[39m\n\u001b[0;32m    196\u001b[0m       )\n\u001b[0;32m    197\u001b[0m   )\n\u001b[0;32m    199\u001b[0m \u001b[38;5;28;01mif\u001b[39;00m \u001b[38;5;129;01mnot\u001b[39;00m \u001b[38;5;28misinstance\u001b[39m(\n\u001b[0;32m    200\u001b[0m     to_annotate, keras\u001b[38;5;241m.\u001b[39mSequential) \u001b[38;5;129;01mand\u001b[39;00m \u001b[38;5;129;01mnot\u001b[39;00m to_annotate\u001b[38;5;241m.\u001b[39m_is_graph_network:  \u001b[38;5;66;03m# pylint: disable=protected-access\u001b[39;00m\n\u001b[0;32m    201\u001b[0m   \u001b[38;5;28;01mraise\u001b[39;00m \u001b[38;5;167;01mValueError\u001b[39;00m(\n\u001b[0;32m    202\u001b[0m       \u001b[38;5;124m'\u001b[39m\u001b[38;5;124m`to_annotate` can only either be a keras Sequential or \u001b[39m\u001b[38;5;124m'\u001b[39m\n\u001b[0;32m    203\u001b[0m       \u001b[38;5;124m'\u001b[39m\u001b[38;5;124mFunctional model.\u001b[39m\u001b[38;5;124m'\u001b[39m\n\u001b[0;32m    204\u001b[0m   )\n",
      "\u001b[1;31mValueError\u001b[0m: `to_annotate` can only be a `keras.Model` instance. Use the `quantize_annotate_layer` API to handle individual layers. You passed an instance of type: Sequential."
     ]
    }
   ],
   "source": [
    "import tensorflow as tf\n",
    "import tensorflow_model_optimization as tfmot\n",
    "from tensorflow import keras\n",
    "\n",
    "# Load the pre-trained Keras model\n",
    "model = tf.keras.models.load_model(\"./saved_model.keras\")\n",
    "\n",
    "# Annotate and apply quantization-aware training\n",
    "quantize_annotate_model = tfmot.quantization.keras.quantize_annotate_model(model)\n",
    "q_aware_model = tfmot.quantization.keras.quantize_apply(quantize_annotate_model)\n",
    "\n",
    "# Define the optimizer to use for training the quantization-aware model\n",
    "optimizer = tf.keras.optimizers.Adam(learning_rate=1e-3)\n",
    "\n",
    "# Compile the quantization-aware model with the optimizer and loss function\n",
    "q_aware_model.compile(optimizer=optimizer,\n",
    "                      loss='sparse_categorical_crossentropy',\n",
    "                      metrics=['accuracy'])\n",
    "\n",
    "# Define the dataset (make sure X_train and y_train are defined)\n",
    "train_dataset = tf.data.Dataset.from_tensor_slices((X_train.astype('float32'), y_train))\n",
    "train_dataset = train_dataset.batch(batch_size=32)\n",
    "\n",
    "# Train the quantization-aware model\n",
    "q_aware_model.fit(train_dataset, epochs=1)\n",
    "\n",
    "# Define a TFLite converter for the quantization-aware model\n",
    "converter = tf.lite.TFLiteConverter.from_keras_model(q_aware_model)\n",
    "\n",
    "# Set the optimizations to use for quantization\n",
    "converter.optimizations = [tf.lite.Optimize.DEFAULT]\n",
    "\n",
    "# Define a representative dataset generator for calibration\n",
    "def representative_data_gen():\n",
    "    for image_batch, _ in train_dataset.take(100):  # take 100 samples for calibration\n",
    "        yield [image_batch]\n",
    "\n",
    "# Set the representative dataset generator for calibration\n",
    "converter.representative_dataset = representative_data_gen\n",
    "\n",
    "# Convert the quantization-aware model to a TFLite model with int8 quantization\n",
    "tflite_quant_aware_model = converter.convert()\n",
    "\n",
    "# Save the quantized TFLite model to a file\n",
    "with open('quantized_aware_model.tflite', 'wb') as f:\n",
    "    f.write(tflite_quant_aware_model)\n",
    "\n",
    "print(\"Quantization-aware model converted and saved as 'quantized_aware_model.tflite'\")\n"
   ]
  },
  {
   "cell_type": "code",
   "execution_count": null,
   "metadata": {
    "colab": {
     "base_uri": "https://localhost:8080/"
    },
    "id": "4YGHPyGt2hct",
    "outputId": "c7732f09-1a21-4ffb-9b4f-0f71ce3b26dc"
   },
   "outputs": [
    {
     "name": "stdout",
     "output_type": "stream",
     "text": [
      "313/313 [==============================] - 1s 3ms/step - loss: 0.1000 - accuracy: 0.9763\n"
     ]
    },
    {
     "data": {
      "text/plain": [
       "[0.1000465452671051, 0.9763000011444092]"
      ]
     },
     "execution_count": 17,
     "metadata": {},
     "output_type": "execute_result"
    }
   ],
   "source": [
    "q_aware_model.evaluate(X_test, y_test)"
   ]
  },
  {
   "cell_type": "code",
   "execution_count": null,
   "metadata": {
    "colab": {
     "base_uri": "https://localhost:8080/"
    },
    "id": "G_4kvs-O2r9P",
    "outputId": "968ad41a-0191-4f33-83c3-45882617ac63"
   },
   "outputs": [
    {
     "data": {
      "text/plain": [
       "82744"
      ]
     },
     "execution_count": 20,
     "metadata": {},
     "output_type": "execute_result"
    }
   ],
   "source": [
    "len(tflite_qaware_model)"
   ]
  },
  {
   "cell_type": "markdown",
   "metadata": {
    "id": "xIeoj1TM4RtV"
   },
   "source": [
    "#Assignment\n",
    "\n",
    "\n",
    "To Evaluate the performance of each model, you need to consider the test dataset. In this case you can evaluate the:\n",
    " - accuracy\n",
    " - Complexity (MAc)\n",
    " - Size\n",
    "\n",
    "  of each models of these three models (no quantized, post-quantized, and aware-training quantized. Where their complexity is the total time of inference, and show the size, where you have to show as well the gain in each quantization with ragard to the non-quantized one\n",
    "  Deadline: 9th of May.\n",
    "  \n",
    "  \n"
   ]
  }
 ],
 "metadata": {
  "accelerator": "GPU",
  "colab": {
   "provenance": []
  },
  "gpuClass": "standard",
  "kernelspec": {
   "display_name": "base",
   "language": "python",
   "name": "python3"
  },
  "language_info": {
   "codemirror_mode": {
    "name": "ipython",
    "version": 3
   },
   "file_extension": ".py",
   "mimetype": "text/x-python",
   "name": "python",
   "nbconvert_exporter": "python",
   "pygments_lexer": "ipython3",
   "version": "3.9.13"
  }
 },
 "nbformat": 4,
 "nbformat_minor": 0
}
