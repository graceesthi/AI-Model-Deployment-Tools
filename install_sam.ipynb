{
 "cells": [
  {
   "cell_type": "code",
   "execution_count": 5,
   "metadata": {
    "vscode": {
     "languageId": "shellscript"
    }
   },
   "outputs": [
    {
     "name": "stdout",
     "output_type": "stream",
     "text": [
      " Le volume dans le lecteur C s'appelle Windows\n",
      " Le num�ro de s�rie du volume est 2455-5271\n",
      "\n",
      " R�pertoire de c:\\Users\\thioy\\Desktop\\4eme_annee\\deployment and maintenance of ai models\n",
      "\n",
      "08/11/2024  22:26    <DIR>          .\n",
      "29/10/2024  10:33    <DIR>          ..\n",
      "30/10/2024  13:47         8�731�582 Deployment and maintenance of artificial intelligence models - 2024.pptx(2).pdf\n",
      "28/10/2024  11:07         7�672�134 Deployment and maintenance of artificial intelligence models - 2024.pptx.pdf\n",
      "08/11/2024  22:19    <DIR>          Final Project\n",
      "08/11/2024  22:27               858 install_sam.ipynb\n",
      "30/10/2024  14:40    <DIR>          TP Docker\n",
      "29/10/2024  15:20    <DIR>          TP Flask\n",
      "31/10/2024  08:42    <DIR>          TP ONNX\n",
      "30/10/2024  15:46    <DIR>          TP Quantization\n",
      "               3 fichier(s)       16�404�574 octets\n",
      "               7 R�p(s)  71�536�762�880 octets libres\n"
     ]
    }
   ],
   "source": [
    "ls"
   ]
  },
  {
   "cell_type": "code",
   "execution_count": 7,
   "metadata": {
    "vscode": {
     "languageId": "shellscript"
    }
   },
   "outputs": [
    {
     "name": "stdout",
     "output_type": "stream",
     "text": [
      "c:\\Users\\thioy\\Desktop\\4eme_annee\\deployment and maintenance of ai models\n"
     ]
    }
   ],
   "source": [
    "cd .."
   ]
  },
  {
   "cell_type": "code",
   "execution_count": 9,
   "metadata": {
    "vscode": {
     "languageId": "shellscript"
    }
   },
   "outputs": [
    {
     "name": "stdout",
     "output_type": "stream",
     "text": [
      "c:\\Users\\thioy\\Desktop\\4eme_annee\\deployment and maintenance of ai models\\Final Project\n"
     ]
    }
   ],
   "source": [
    "cd Final Project"
   ]
  },
  {
   "cell_type": "code",
   "execution_count": 10,
   "metadata": {
    "vscode": {
     "languageId": "shellscript"
    }
   },
   "outputs": [
    {
     "name": "stdout",
     "output_type": "stream",
     "text": [
      "c:\\Users\\thioy\\Desktop\\4eme_annee\\deployment and maintenance of ai models\\Final Project\\sam2\n"
     ]
    }
   ],
   "source": [
    "cd sam2"
   ]
  },
  {
   "cell_type": "code",
   "execution_count": 13,
   "metadata": {
    "vscode": {
     "languageId": "shellscript"
    }
   },
   "outputs": [
    {
     "name": "stdout",
     "output_type": "stream",
     "text": [
      "Python 3.11.0\n"
     ]
    }
   ],
   "source": [
    "!python --version"
   ]
  },
  {
   "cell_type": "code",
   "execution_count": 14,
   "metadata": {
    "vscode": {
     "languageId": "shellscript"
    }
   },
   "outputs": [
    {
     "name": "stderr",
     "output_type": "stream",
     "text": [
      "  error: subprocess-exited-with-error\n",
      "  \n",
      "  × Getting requirements to build editable did not run successfully.\n",
      "  │ exit code: 1\n",
      "  ╰─> [9 lines of output]\n",
      "      C:\\Users\\thioy\\AppData\\Local\\Temp\\pip-build-env-028fram_\\overlay\\Lib\\site-packages\\torch\\_subclasses\\functional_tensor.py:295: UserWarning: Failed to initialize NumPy: No module named 'numpy' (Triggered internally at C:\\actions-runner\\_work\\pytorch\\pytorch\\builder\\windows\\pytorch\\torch\\csrc\\utils\\tensor_numpy.cpp:84.)\n",
      "        cpu = _conversion_method_template(device=torch.device(\"cpu\"))\n",
      "      CUDA_HOME environment variable is not set. Please set it to your CUDA install root.\n",
      "      \n",
      "      Failed to build the SAM 2 CUDA extension due to the error above. You can still use SAM 2 and it's OK to ignore the error above, although some post-processing functionality may be limited (which doesn't affect the results in most cases; (see https://github.com/facebookresearch/sam2/blob/main/INSTALL.md).\n",
      "      \n",
      "      running egg_info\n",
      "      writing SAM_2.egg-info\\PKG-INFO\n",
      "      error: [WinError 5] AccÃ¨s refusÃ©: 'C:\\\\Users\\\\thioy\\\\Desktop\\\\4eme_annee\\\\deployment and maintenance of ai models\\\\Final Project\\\\sam2\\\\SAM_2.egg-info\\\\tmplx2d2239' -> 'SAM_2.egg-info\\\\PKG-INFO'\n",
      "      [end of output]\n",
      "  \n",
      "  note: This error originates from a subprocess, and is likely not a problem with pip.\n",
      "error: subprocess-exited-with-error\n",
      "\n",
      "× Getting requirements to build editable did not run successfully.\n",
      "│ exit code: 1\n",
      "╰─> See above for output.\n",
      "\n",
      "note: This error originates from a subprocess, and is likely not a problem with pip.\n",
      "\n",
      "[notice] A new release of pip is available: 24.0 -> 24.3.1\n",
      "[notice] To update, run: python.exe -m pip install --upgrade pip\n"
     ]
    },
    {
     "name": "stdout",
     "output_type": "stream",
     "text": [
      "Obtaining file:///C:/Users/thioy/Desktop/4eme_annee/deployment%20and%20maintenance%20of%20ai%20models/Final%20Project/sam2\n",
      "  Installing build dependencies: started\n",
      "  Installing build dependencies: still running...\n",
      "  Installing build dependencies: finished with status 'done'\n",
      "  Checking if build backend supports build_editable: started\n",
      "  Checking if build backend supports build_editable: finished with status 'done'\n",
      "  Getting requirements to build editable: started\n",
      "  Getting requirements to build editable: finished with status 'error'\n",
      "Obtaining file:///C:/Users/thioy/Desktop/4eme_annee/deployment%20and%20maintenance%20of%20ai%20models/Final%20Project/sam2Note: you may need to restart the kernel to use updated packages.\n"
     ]
    },
    {
     "name": "stderr",
     "output_type": "stream",
     "text": [
      "ERROR: pip's dependency resolver does not currently take into account all the packages that are installed. This behaviour is the source of the following dependency conflicts.\n",
      "torchaudio 2.0.2+cu117 requires torch==2.0.1, but you have torch 2.5.1 which is incompatible.\n",
      "\n",
      "[notice] A new release of pip is available: 24.0 -> 24.3.1\n",
      "[notice] To update, run: python.exe -m pip install --upgrade pip\n"
     ]
    },
    {
     "name": "stdout",
     "output_type": "stream",
     "text": [
      "\n",
      "  Installing build dependencies: started\n",
      "  Installing build dependencies: still running...\n",
      "  Installing build dependencies: finished with status 'done'\n",
      "  Checking if build backend supports build_editable: started\n",
      "  Checking if build backend supports build_editable: finished with status 'done'\n",
      "  Getting requirements to build editable: started\n",
      "  Getting requirements to build editable: finished with status 'done'\n",
      "  Preparing editable metadata (pyproject.toml): started\n",
      "  Preparing editable metadata (pyproject.toml): finished with status 'done'\n",
      "Collecting torch>=2.3.1 (from SAM-2==1.0)\n",
      "  Using cached torch-2.5.1-cp311-cp311-win_amd64.whl.metadata (28 kB)\n",
      "Collecting torchvision>=0.18.1 (from SAM-2==1.0)\n",
      "  Downloading torchvision-0.20.1-cp311-cp311-win_amd64.whl.metadata (6.2 kB)\n",
      "Requirement already satisfied: numpy>=1.24.4 in c:\\users\\thioy\\appdata\\local\\programs\\python\\python311\\lib\\site-packages (from SAM-2==1.0) (2.1.1)\n",
      "Requirement already satisfied: tqdm>=4.66.1 in c:\\users\\thioy\\appdata\\local\\programs\\python\\python311\\lib\\site-packages (from SAM-2==1.0) (4.66.5)\n",
      "Collecting hydra-core>=1.3.2 (from SAM-2==1.0)\n",
      "  Using cached hydra_core-1.3.2-py3-none-any.whl.metadata (5.5 kB)\n",
      "Collecting iopath>=0.1.10 (from SAM-2==1.0)\n",
      "  Using cached iopath-0.1.10.tar.gz (42 kB)\n",
      "  Preparing metadata (setup.py): started\n",
      "  Preparing metadata (setup.py): finished with status 'done'\n",
      "Collecting pillow>=9.4.0 (from SAM-2==1.0)\n",
      "  Downloading pillow-11.0.0-cp311-cp311-win_amd64.whl.metadata (9.3 kB)\n",
      "Collecting matplotlib>=3.9.1 (from SAM-2==1.0)\n",
      "  Downloading matplotlib-3.9.2-cp311-cp311-win_amd64.whl.metadata (11 kB)\n",
      "Requirement already satisfied: jupyter>=1.0.0 in c:\\users\\thioy\\appdata\\local\\programs\\python\\python311\\lib\\site-packages (from SAM-2==1.0) (1.0.0)\n",
      "Requirement already satisfied: opencv-python>=4.7.0 in c:\\users\\thioy\\appdata\\local\\programs\\python\\python311\\lib\\site-packages (from SAM-2==1.0) (4.9.0.80)\n",
      "Collecting eva-decord>=0.6.1 (from SAM-2==1.0)\n",
      "  Downloading eva_decord-0.6.1-py3-none-win_amd64.whl.metadata (449 bytes)\n",
      "Collecting omegaconf<2.4,>=2.2 (from hydra-core>=1.3.2->SAM-2==1.0)\n",
      "  Downloading omegaconf-2.3.0-py3-none-any.whl.metadata (3.9 kB)\n",
      "Collecting antlr4-python3-runtime==4.9.* (from hydra-core>=1.3.2->SAM-2==1.0)\n",
      "  Downloading antlr4-python3-runtime-4.9.3.tar.gz (117 kB)\n",
      "     -------------------------------------- 117.0/117.0 kB 3.3 MB/s eta 0:00:00\n",
      "  Preparing metadata (setup.py): started\n",
      "  Preparing metadata (setup.py): finished with status 'done'\n",
      "Requirement already satisfied: packaging in c:\\users\\thioy\\appdata\\roaming\\python\\python311\\site-packages (from hydra-core>=1.3.2->SAM-2==1.0) (21.3)\n",
      "Requirement already satisfied: typing_extensions in c:\\users\\thioy\\appdata\\local\\programs\\python\\python311\\lib\\site-packages (from iopath>=0.1.10->SAM-2==1.0) (4.10.0)\n",
      "Collecting portalocker (from iopath>=0.1.10->SAM-2==1.0)\n",
      "  Downloading portalocker-2.10.1-py3-none-any.whl.metadata (8.5 kB)\n",
      "Requirement already satisfied: notebook in c:\\users\\thioy\\appdata\\local\\programs\\python\\python311\\lib\\site-packages (from jupyter>=1.0.0->SAM-2==1.0) (6.5.2)\n",
      "Requirement already satisfied: qtconsole in c:\\users\\thioy\\appdata\\local\\programs\\python\\python311\\lib\\site-packages (from jupyter>=1.0.0->SAM-2==1.0) (5.4.0)\n",
      "Requirement already satisfied: jupyter-console in c:\\users\\thioy\\appdata\\local\\programs\\python\\python311\\lib\\site-packages (from jupyter>=1.0.0->SAM-2==1.0) (6.4.4)\n",
      "Requirement already satisfied: nbconvert in c:\\users\\thioy\\appdata\\local\\programs\\python\\python311\\lib\\site-packages (from jupyter>=1.0.0->SAM-2==1.0) (7.2.7)\n",
      "Requirement already satisfied: ipykernel in c:\\users\\thioy\\appdata\\roaming\\python\\python311\\site-packages (from jupyter>=1.0.0->SAM-2==1.0) (6.17.1)\n",
      "Requirement already satisfied: ipywidgets in c:\\users\\thioy\\appdata\\local\\programs\\python\\python311\\lib\\site-packages (from jupyter>=1.0.0->SAM-2==1.0) (8.0.4)\n",
      "Requirement already satisfied: contourpy>=1.0.1 in c:\\users\\thioy\\appdata\\local\\programs\\python\\python311\\lib\\site-packages (from matplotlib>=3.9.1->SAM-2==1.0) (1.0.6)\n",
      "Requirement already satisfied: cycler>=0.10 in c:\\users\\thioy\\appdata\\local\\programs\\python\\python311\\lib\\site-packages (from matplotlib>=3.9.1->SAM-2==1.0) (0.11.0)\n",
      "Requirement already satisfied: fonttools>=4.22.0 in c:\\users\\thioy\\appdata\\local\\programs\\python\\python311\\lib\\site-packages (from matplotlib>=3.9.1->SAM-2==1.0) (4.38.0)\n",
      "Requirement already satisfied: kiwisolver>=1.3.1 in c:\\users\\thioy\\appdata\\local\\programs\\python\\python311\\lib\\site-packages (from matplotlib>=3.9.1->SAM-2==1.0) (1.4.4)\n",
      "Requirement already satisfied: pyparsing>=2.3.1 in c:\\users\\thioy\\appdata\\roaming\\python\\python311\\site-packages (from matplotlib>=3.9.1->SAM-2==1.0) (3.0.9)\n",
      "Requirement already satisfied: python-dateutil>=2.7 in c:\\users\\thioy\\appdata\\roaming\\python\\python311\\site-packages (from matplotlib>=3.9.1->SAM-2==1.0) (2.8.2)\n",
      "Requirement already satisfied: filelock in c:\\users\\thioy\\appdata\\local\\programs\\python\\python311\\lib\\site-packages (from torch>=2.3.1->SAM-2==1.0) (3.8.0)\n",
      "Requirement already satisfied: networkx in c:\\users\\thioy\\appdata\\local\\programs\\python\\python311\\lib\\site-packages (from torch>=2.3.1->SAM-2==1.0) (3.2.1)\n",
      "Requirement already satisfied: jinja2 in c:\\users\\thioy\\appdata\\local\\programs\\python\\python311\\lib\\site-packages (from torch>=2.3.1->SAM-2==1.0) (3.1.3)\n",
      "Requirement already satisfied: fsspec in c:\\users\\thioy\\appdata\\local\\programs\\python\\python311\\lib\\site-packages (from torch>=2.3.1->SAM-2==1.0) (2024.2.0)\n",
      "Collecting sympy==1.13.1 (from torch>=2.3.1->SAM-2==1.0)\n",
      "  Using cached sympy-1.13.1-py3-none-any.whl.metadata (12 kB)\n",
      "Requirement already satisfied: mpmath<1.4,>=1.1.0 in c:\\users\\thioy\\appdata\\local\\programs\\python\\python311\\lib\\site-packages (from sympy==1.13.1->torch>=2.3.1->SAM-2==1.0) (1.3.0)\n",
      "Requirement already satisfied: colorama in c:\\users\\thioy\\appdata\\roaming\\python\\python311\\site-packages (from tqdm>=4.66.1->SAM-2==1.0) (0.4.6)\n",
      "Requirement already satisfied: PyYAML>=5.1.0 in c:\\users\\thioy\\appdata\\local\\programs\\python\\python311\\lib\\site-packages (from omegaconf<2.4,>=2.2->hydra-core>=1.3.2->SAM-2==1.0) (6.0)\n",
      "Requirement already satisfied: six>=1.5 in c:\\users\\thioy\\appdata\\roaming\\python\\python311\\site-packages (from python-dateutil>=2.7->matplotlib>=3.9.1->SAM-2==1.0) (1.16.0)\n",
      "Requirement already satisfied: debugpy>=1.0 in c:\\users\\thioy\\appdata\\roaming\\python\\python311\\site-packages (from ipykernel->jupyter>=1.0.0->SAM-2==1.0) (1.6.3)\n",
      "Requirement already satisfied: ipython>=7.23.1 in c:\\users\\thioy\\appdata\\roaming\\python\\python311\\site-packages (from ipykernel->jupyter>=1.0.0->SAM-2==1.0) (8.6.0)\n",
      "Requirement already satisfied: jupyter-client>=6.1.12 in c:\\users\\thioy\\appdata\\roaming\\python\\python311\\site-packages (from ipykernel->jupyter>=1.0.0->SAM-2==1.0) (7.4.7)\n",
      "Requirement already satisfied: matplotlib-inline>=0.1 in c:\\users\\thioy\\appdata\\roaming\\python\\python311\\site-packages (from ipykernel->jupyter>=1.0.0->SAM-2==1.0) (0.1.6)\n",
      "Requirement already satisfied: nest-asyncio in c:\\users\\thioy\\appdata\\roaming\\python\\python311\\site-packages (from ipykernel->jupyter>=1.0.0->SAM-2==1.0) (1.5.6)\n",
      "Requirement already satisfied: psutil in c:\\users\\thioy\\appdata\\roaming\\python\\python311\\site-packages (from ipykernel->jupyter>=1.0.0->SAM-2==1.0) (5.9.4)\n",
      "Requirement already satisfied: pyzmq>=17 in c:\\users\\thioy\\appdata\\roaming\\python\\python311\\site-packages (from ipykernel->jupyter>=1.0.0->SAM-2==1.0) (24.0.1)\n",
      "Requirement already satisfied: tornado>=6.1 in c:\\users\\thioy\\appdata\\roaming\\python\\python311\\site-packages (from ipykernel->jupyter>=1.0.0->SAM-2==1.0) (6.2)\n",
      "Requirement already satisfied: traitlets>=5.1.0 in c:\\users\\thioy\\appdata\\local\\programs\\python\\python311\\lib\\site-packages (from ipykernel->jupyter>=1.0.0->SAM-2==1.0) (5.8.0)\n",
      "Requirement already satisfied: widgetsnbextension~=4.0 in c:\\users\\thioy\\appdata\\local\\programs\\python\\python311\\lib\\site-packages (from ipywidgets->jupyter>=1.0.0->SAM-2==1.0) (4.0.5)\n",
      "Requirement already satisfied: jupyterlab-widgets~=3.0 in c:\\users\\thioy\\appdata\\local\\programs\\python\\python311\\lib\\site-packages (from ipywidgets->jupyter>=1.0.0->SAM-2==1.0) (3.0.5)\n",
      "Requirement already satisfied: MarkupSafe>=2.0 in c:\\users\\thioy\\appdata\\local\\programs\\python\\python311\\lib\\site-packages (from jinja2->torch>=2.3.1->SAM-2==1.0) (2.1.1)\n",
      "Requirement already satisfied: prompt-toolkit!=3.0.0,!=3.0.1,<3.1.0,>=2.0.0 in c:\\users\\thioy\\appdata\\roaming\\python\\python311\\site-packages (from jupyter-console->jupyter>=1.0.0->SAM-2==1.0) (3.0.32)\n",
      "Requirement already satisfied: pygments in c:\\users\\thioy\\appdata\\roaming\\python\\python311\\site-packages (from jupyter-console->jupyter>=1.0.0->SAM-2==1.0) (2.13.0)\n",
      "Requirement already satisfied: beautifulsoup4 in c:\\users\\thioy\\appdata\\local\\programs\\python\\python311\\lib\\site-packages (from nbconvert->jupyter>=1.0.0->SAM-2==1.0) (4.11.1)\n",
      "Requirement already satisfied: bleach in c:\\users\\thioy\\appdata\\local\\programs\\python\\python311\\lib\\site-packages (from nbconvert->jupyter>=1.0.0->SAM-2==1.0) (5.0.1)\n",
      "Requirement already satisfied: defusedxml in c:\\users\\thioy\\appdata\\local\\programs\\python\\python311\\lib\\site-packages (from nbconvert->jupyter>=1.0.0->SAM-2==1.0) (0.7.1)\n",
      "Requirement already satisfied: jupyter-core>=4.7 in c:\\users\\thioy\\appdata\\local\\programs\\python\\python311\\lib\\site-packages (from nbconvert->jupyter>=1.0.0->SAM-2==1.0) (5.1.0)\n",
      "Requirement already satisfied: jupyterlab-pygments in c:\\users\\thioy\\appdata\\local\\programs\\python\\python311\\lib\\site-packages (from nbconvert->jupyter>=1.0.0->SAM-2==1.0) (0.2.2)\n",
      "Requirement already satisfied: mistune<3,>=2.0.3 in c:\\users\\thioy\\appdata\\local\\programs\\python\\python311\\lib\\site-packages (from nbconvert->jupyter>=1.0.0->SAM-2==1.0) (2.0.4)\n",
      "Requirement already satisfied: nbclient>=0.5.0 in c:\\users\\thioy\\appdata\\local\\programs\\python\\python311\\lib\\site-packages (from nbconvert->jupyter>=1.0.0->SAM-2==1.0) (0.7.2)\n",
      "Requirement already satisfied: nbformat>=5.1 in c:\\users\\thioy\\appdata\\local\\programs\\python\\python311\\lib\\site-packages (from nbconvert->jupyter>=1.0.0->SAM-2==1.0) (5.7.1)\n",
      "Requirement already satisfied: pandocfilters>=1.4.1 in c:\\users\\thioy\\appdata\\local\\programs\\python\\python311\\lib\\site-packages (from nbconvert->jupyter>=1.0.0->SAM-2==1.0) (1.5.0)\n",
      "Requirement already satisfied: tinycss2 in c:\\users\\thioy\\appdata\\local\\programs\\python\\python311\\lib\\site-packages (from nbconvert->jupyter>=1.0.0->SAM-2==1.0) (1.2.1)\n",
      "Requirement already satisfied: argon2-cffi in c:\\users\\thioy\\appdata\\local\\programs\\python\\python311\\lib\\site-packages (from notebook->jupyter>=1.0.0->SAM-2==1.0) (21.3.0)\n",
      "Requirement already satisfied: ipython-genutils in c:\\users\\thioy\\appdata\\local\\programs\\python\\python311\\lib\\site-packages (from notebook->jupyter>=1.0.0->SAM-2==1.0) (0.2.0)\n",
      "Requirement already satisfied: Send2Trash>=1.8.0 in c:\\users\\thioy\\appdata\\local\\programs\\python\\python311\\lib\\site-packages (from notebook->jupyter>=1.0.0->SAM-2==1.0) (1.8.0)\n",
      "Requirement already satisfied: terminado>=0.8.3 in c:\\users\\thioy\\appdata\\local\\programs\\python\\python311\\lib\\site-packages (from notebook->jupyter>=1.0.0->SAM-2==1.0) (0.17.1)\n",
      "Requirement already satisfied: prometheus-client in c:\\users\\thioy\\appdata\\local\\programs\\python\\python311\\lib\\site-packages (from notebook->jupyter>=1.0.0->SAM-2==1.0) (0.15.0)\n",
      "Requirement already satisfied: nbclassic>=0.4.7 in c:\\users\\thioy\\appdata\\local\\programs\\python\\python311\\lib\\site-packages (from notebook->jupyter>=1.0.0->SAM-2==1.0) (0.4.8)\n",
      "Requirement already satisfied: pywin32>=226 in c:\\users\\thioy\\appdata\\roaming\\python\\python311\\site-packages (from portalocker->iopath>=0.1.10->SAM-2==1.0) (305)\n",
      "Requirement already satisfied: qtpy>=2.0.1 in c:\\users\\thioy\\appdata\\local\\programs\\python\\python311\\lib\\site-packages (from qtconsole->jupyter>=1.0.0->SAM-2==1.0) (2.3.0)\n",
      "Requirement already satisfied: backcall in c:\\users\\thioy\\appdata\\roaming\\python\\python311\\site-packages (from ipython>=7.23.1->ipykernel->jupyter>=1.0.0->SAM-2==1.0) (0.2.0)\n",
      "Requirement already satisfied: decorator in c:\\users\\thioy\\appdata\\roaming\\python\\python311\\site-packages (from ipython>=7.23.1->ipykernel->jupyter>=1.0.0->SAM-2==1.0) (5.1.1)\n",
      "Requirement already satisfied: jedi>=0.16 in c:\\users\\thioy\\appdata\\roaming\\python\\python311\\site-packages (from ipython>=7.23.1->ipykernel->jupyter>=1.0.0->SAM-2==1.0) (0.18.1)\n",
      "Requirement already satisfied: pickleshare in c:\\users\\thioy\\appdata\\roaming\\python\\python311\\site-packages (from ipython>=7.23.1->ipykernel->jupyter>=1.0.0->SAM-2==1.0) (0.7.5)\n",
      "Requirement already satisfied: stack-data in c:\\users\\thioy\\appdata\\roaming\\python\\python311\\site-packages (from ipython>=7.23.1->ipykernel->jupyter>=1.0.0->SAM-2==1.0) (0.6.1)\n",
      "Requirement already satisfied: entrypoints in c:\\users\\thioy\\appdata\\roaming\\python\\python311\\site-packages (from jupyter-client>=6.1.12->ipykernel->jupyter>=1.0.0->SAM-2==1.0) (0.4)\n",
      "Requirement already satisfied: platformdirs>=2.5 in c:\\users\\thioy\\appdata\\local\\programs\\python\\python311\\lib\\site-packages (from jupyter-core>=4.7->nbconvert->jupyter>=1.0.0->SAM-2==1.0) (4.2.0)\n",
      "Requirement already satisfied: jupyter-server>=1.8 in c:\\users\\thioy\\appdata\\local\\programs\\python\\python311\\lib\\site-packages (from nbclassic>=0.4.7->notebook->jupyter>=1.0.0->SAM-2==1.0) (2.0.5)\n",
      "Requirement already satisfied: notebook-shim>=0.1.0 in c:\\users\\thioy\\appdata\\local\\programs\\python\\python311\\lib\\site-packages (from nbclassic>=0.4.7->notebook->jupyter>=1.0.0->SAM-2==1.0) (0.2.2)\n",
      "Requirement already satisfied: fastjsonschema in c:\\users\\thioy\\appdata\\local\\programs\\python\\python311\\lib\\site-packages (from nbformat>=5.1->nbconvert->jupyter>=1.0.0->SAM-2==1.0) (2.16.2)\n",
      "Requirement already satisfied: jsonschema>=2.6 in c:\\users\\thioy\\appdata\\local\\programs\\python\\python311\\lib\\site-packages (from nbformat>=5.1->nbconvert->jupyter>=1.0.0->SAM-2==1.0) (4.17.3)\n",
      "Requirement already satisfied: wcwidth in c:\\users\\thioy\\appdata\\roaming\\python\\python311\\site-packages (from prompt-toolkit!=3.0.0,!=3.0.1,<3.1.0,>=2.0.0->jupyter-console->jupyter>=1.0.0->SAM-2==1.0) (0.2.5)\n",
      "Requirement already satisfied: pywinpty>=1.1.0 in c:\\users\\thioy\\appdata\\local\\programs\\python\\python311\\lib\\site-packages (from terminado>=0.8.3->notebook->jupyter>=1.0.0->SAM-2==1.0) (2.0.9)\n",
      "Requirement already satisfied: argon2-cffi-bindings in c:\\users\\thioy\\appdata\\local\\programs\\python\\python311\\lib\\site-packages (from argon2-cffi->notebook->jupyter>=1.0.0->SAM-2==1.0) (21.2.0)\n",
      "Requirement already satisfied: soupsieve>1.2 in c:\\users\\thioy\\appdata\\local\\programs\\python\\python311\\lib\\site-packages (from beautifulsoup4->nbconvert->jupyter>=1.0.0->SAM-2==1.0) (2.3.2.post1)\n",
      "Requirement already satisfied: webencodings in c:\\users\\thioy\\appdata\\local\\programs\\python\\python311\\lib\\site-packages (from bleach->nbconvert->jupyter>=1.0.0->SAM-2==1.0) (0.5.1)\n",
      "Requirement already satisfied: parso<0.9.0,>=0.8.0 in c:\\users\\thioy\\appdata\\roaming\\python\\python311\\site-packages (from jedi>=0.16->ipython>=7.23.1->ipykernel->jupyter>=1.0.0->SAM-2==1.0) (0.8.3)\n",
      "Requirement already satisfied: attrs>=17.4.0 in c:\\users\\thioy\\appdata\\local\\programs\\python\\python311\\lib\\site-packages (from jsonschema>=2.6->nbformat>=5.1->nbconvert->jupyter>=1.0.0->SAM-2==1.0) (22.2.0)\n",
      "Requirement already satisfied: pyrsistent!=0.17.0,!=0.17.1,!=0.17.2,>=0.14.0 in c:\\users\\thioy\\appdata\\local\\programs\\python\\python311\\lib\\site-packages (from jsonschema>=2.6->nbformat>=5.1->nbconvert->jupyter>=1.0.0->SAM-2==1.0) (0.19.2)\n",
      "Requirement already satisfied: anyio<4,>=3.1.0 in c:\\users\\thioy\\appdata\\local\\programs\\python\\python311\\lib\\site-packages (from jupyter-server>=1.8->nbclassic>=0.4.7->notebook->jupyter>=1.0.0->SAM-2==1.0) (3.6.2)\n",
      "Requirement already satisfied: jupyter-events>=0.4.0 in c:\\users\\thioy\\appdata\\local\\programs\\python\\python311\\lib\\site-packages (from jupyter-server>=1.8->nbclassic>=0.4.7->notebook->jupyter>=1.0.0->SAM-2==1.0) (0.5.0)\n",
      "Requirement already satisfied: jupyter-server-terminals in c:\\users\\thioy\\appdata\\local\\programs\\python\\python311\\lib\\site-packages (from jupyter-server>=1.8->nbclassic>=0.4.7->notebook->jupyter>=1.0.0->SAM-2==1.0) (0.4.3)\n",
      "Requirement already satisfied: websocket-client in c:\\users\\thioy\\appdata\\local\\programs\\python\\python311\\lib\\site-packages (from jupyter-server>=1.8->nbclassic>=0.4.7->notebook->jupyter>=1.0.0->SAM-2==1.0) (1.4.2)\n",
      "Requirement already satisfied: cffi>=1.0.1 in c:\\users\\thioy\\appdata\\local\\programs\\python\\python311\\lib\\site-packages (from argon2-cffi-bindings->argon2-cffi->notebook->jupyter>=1.0.0->SAM-2==1.0) (1.15.1)\n",
      "Requirement already satisfied: executing>=1.2.0 in c:\\users\\thioy\\appdata\\roaming\\python\\python311\\site-packages (from stack-data->ipython>=7.23.1->ipykernel->jupyter>=1.0.0->SAM-2==1.0) (1.2.0)\n",
      "Requirement already satisfied: asttokens>=2.1.0 in c:\\users\\thioy\\appdata\\roaming\\python\\python311\\site-packages (from stack-data->ipython>=7.23.1->ipykernel->jupyter>=1.0.0->SAM-2==1.0) (2.1.0)\n",
      "Requirement already satisfied: pure-eval in c:\\users\\thioy\\appdata\\roaming\\python\\python311\\site-packages (from stack-data->ipython>=7.23.1->ipykernel->jupyter>=1.0.0->SAM-2==1.0) (0.2.2)\n",
      "Requirement already satisfied: idna>=2.8 in c:\\users\\thioy\\appdata\\local\\programs\\python\\python311\\lib\\site-packages (from anyio<4,>=3.1.0->jupyter-server>=1.8->nbclassic>=0.4.7->notebook->jupyter>=1.0.0->SAM-2==1.0) (2.10)\n",
      "Requirement already satisfied: sniffio>=1.1 in c:\\users\\thioy\\appdata\\local\\programs\\python\\python311\\lib\\site-packages (from anyio<4,>=3.1.0->jupyter-server>=1.8->nbclassic>=0.4.7->notebook->jupyter>=1.0.0->SAM-2==1.0) (1.3.0)\n",
      "Requirement already satisfied: pycparser in c:\\users\\thioy\\appdata\\local\\programs\\python\\python311\\lib\\site-packages (from cffi>=1.0.1->argon2-cffi-bindings->argon2-cffi->notebook->jupyter>=1.0.0->SAM-2==1.0) (2.21)\n",
      "Requirement already satisfied: python-json-logger in c:\\users\\thioy\\appdata\\local\\programs\\python\\python311\\lib\\site-packages (from jupyter-events>=0.4.0->jupyter-server>=1.8->nbclassic>=0.4.7->notebook->jupyter>=1.0.0->SAM-2==1.0) (2.0.4)\n",
      "Requirement already satisfied: fqdn in c:\\users\\thioy\\appdata\\local\\programs\\python\\python311\\lib\\site-packages (from jsonschema[format-nongpl]>=4.3.0->jupyter-events>=0.4.0->jupyter-server>=1.8->nbclassic>=0.4.7->notebook->jupyter>=1.0.0->SAM-2==1.0) (1.5.1)\n",
      "Requirement already satisfied: isoduration in c:\\users\\thioy\\appdata\\local\\programs\\python\\python311\\lib\\site-packages (from jsonschema[format-nongpl]>=4.3.0->jupyter-events>=0.4.0->jupyter-server>=1.8->nbclassic>=0.4.7->notebook->jupyter>=1.0.0->SAM-2==1.0) (20.11.0)\n",
      "Requirement already satisfied: jsonpointer>1.13 in c:\\users\\thioy\\appdata\\local\\programs\\python\\python311\\lib\\site-packages (from jsonschema[format-nongpl]>=4.3.0->jupyter-events>=0.4.0->jupyter-server>=1.8->nbclassic>=0.4.7->notebook->jupyter>=1.0.0->SAM-2==1.0) (2.3)\n",
      "Requirement already satisfied: rfc3339-validator in c:\\users\\thioy\\appdata\\local\\programs\\python\\python311\\lib\\site-packages (from jsonschema[format-nongpl]>=4.3.0->jupyter-events>=0.4.0->jupyter-server>=1.8->nbclassic>=0.4.7->notebook->jupyter>=1.0.0->SAM-2==1.0) (0.1.4)\n",
      "Requirement already satisfied: rfc3986-validator>0.1.0 in c:\\users\\thioy\\appdata\\local\\programs\\python\\python311\\lib\\site-packages (from jsonschema[format-nongpl]>=4.3.0->jupyter-events>=0.4.0->jupyter-server>=1.8->nbclassic>=0.4.7->notebook->jupyter>=1.0.0->SAM-2==1.0) (0.1.1)\n",
      "Requirement already satisfied: uri-template in c:\\users\\thioy\\appdata\\local\\programs\\python\\python311\\lib\\site-packages (from jsonschema[format-nongpl]>=4.3.0->jupyter-events>=0.4.0->jupyter-server>=1.8->nbclassic>=0.4.7->notebook->jupyter>=1.0.0->SAM-2==1.0) (1.2.0)\n",
      "Requirement already satisfied: webcolors>=1.11 in c:\\users\\thioy\\appdata\\local\\programs\\python\\python311\\lib\\site-packages (from jsonschema[format-nongpl]>=4.3.0->jupyter-events>=0.4.0->jupyter-server>=1.8->nbclassic>=0.4.7->notebook->jupyter>=1.0.0->SAM-2==1.0) (1.12)\n",
      "Requirement already satisfied: arrow>=0.15.0 in c:\\users\\thioy\\appdata\\local\\programs\\python\\python311\\lib\\site-packages (from isoduration->jsonschema[format-nongpl]>=4.3.0->jupyter-events>=0.4.0->jupyter-server>=1.8->nbclassic>=0.4.7->notebook->jupyter>=1.0.0->SAM-2==1.0) (1.2.3)\n",
      "Downloading eva_decord-0.6.1-py3-none-win_amd64.whl (25.5 MB)\n",
      "   ---------------------------------------- 25.5/25.5 MB 8.6 MB/s eta 0:00:00\n",
      "Downloading hydra_core-1.3.2-py3-none-any.whl (154 kB)\n",
      "   ---------------------------------------- 154.5/154.5 kB 9.0 MB/s eta 0:00:00\n",
      "Downloading matplotlib-3.9.2-cp311-cp311-win_amd64.whl (7.8 MB)\n",
      "   ---------------------------------------- 7.8/7.8 MB 8.3 MB/s eta 0:00:00\n",
      "Downloading pillow-11.0.0-cp311-cp311-win_amd64.whl (2.6 MB)\n",
      "   ---------------------------------------- 2.6/2.6 MB 7.1 MB/s eta 0:00:00\n",
      "Using cached torch-2.5.1-cp311-cp311-win_amd64.whl (203.1 MB)\n",
      "Using cached sympy-1.13.1-py3-none-any.whl (6.2 MB)\n",
      "Downloading torchvision-0.20.1-cp311-cp311-win_amd64.whl (1.6 MB)\n",
      "   ---------------------------------------- 1.6/1.6 MB 7.6 MB/s eta 0:00:00\n",
      "Downloading omegaconf-2.3.0-py3-none-any.whl (79 kB)\n",
      "   ---------------------------------------- 79.5/79.5 kB 4.3 MB/s eta 0:00:00\n",
      "Downloading portalocker-2.10.1-py3-none-any.whl (18 kB)\n",
      "Checking if build backend supports build_editable: started\n",
      "Checking if build backend supports build_editable: finished with status 'done'\n",
      "Building wheels for collected packages: SAM-2, antlr4-python3-runtime, iopath\n",
      "  Building editable for SAM-2 (pyproject.toml): started\n",
      "  Building editable for SAM-2 (pyproject.toml): finished with status 'done'\n",
      "  Created wheel for SAM-2: filename=SAM_2-1.0-0.editable-py3-none-any.whl size=13508 sha256=294697ae9730041f55961bb31eeb5f6cd5615f73fb87aae1605dbd27055c13b8\n",
      "  Stored in directory: C:\\Users\\thioy\\AppData\\Local\\Temp\\pip-ephem-wheel-cache-90viwhwo\\wheels\\2d\\fb\\db\\20a9f08623207617b5371291bdefd4a5d054e703b508143a97\n",
      "  Building wheel for antlr4-python3-runtime (setup.py): started\n",
      "  Building wheel for antlr4-python3-runtime (setup.py): finished with status 'done'\n",
      "  Created wheel for antlr4-python3-runtime: filename=antlr4_python3_runtime-4.9.3-py3-none-any.whl size=144578 sha256=4e248f8bbc2ae6393042d83790b7306fcdade7534ab5b2adaf84f7244d3de854\n",
      "  Stored in directory: c:\\users\\thioy\\appdata\\local\\pip\\cache\\wheels\\1a\\97\\32\\461f837398029ad76911109f07047fde1d7b661a147c7c56d1\n",
      "  Building wheel for iopath (setup.py): started\n",
      "  Building wheel for iopath (setup.py): finished with status 'done'\n",
      "  Created wheel for iopath: filename=iopath-0.1.10-py3-none-any.whl size=31541 sha256=380f3fb7b506df5aeb7b3e382860e124b8386ccfa07ece45f00af26bc62bc878\n",
      "  Stored in directory: c:\\users\\thioy\\appdata\\local\\pip\\cache\\wheels\\ba\\5e\\16\\6117f8fe7e9c0c161a795e10d94645ebcf301ccbd01f66d8ec\n",
      "Successfully built SAM-2 antlr4-python3-runtime iopath\n",
      "Installing collected packages: antlr4-python3-runtime, sympy, portalocker, pillow, omegaconf, eva-decord, torch, matplotlib, iopath, hydra-core, torchvision, SAM-2\n",
      "  Attempting uninstall: sympy\n",
      "    Found existing installation: sympy 1.12\n",
      "    Uninstalling sympy-1.12:\n",
      "      Successfully uninstalled sympy-1.12\n",
      "  Attempting uninstall: pillow\n",
      "    Found existing installation: Pillow 9.3.0\n",
      "    Uninstalling Pillow-9.3.0:\n",
      "      Successfully uninstalled Pillow-9.3.0\n",
      "  Attempting uninstall: torch\n",
      "    Found existing installation: torch 2.0.1+cu117\n",
      "    Uninstalling torch-2.0.1+cu117:\n",
      "      Successfully uninstalled torch-2.0.1+cu117\n",
      "  Attempting uninstall: matplotlib\n",
      "    Found existing installation: matplotlib 3.6.2\n",
      "    Uninstalling matplotlib-3.6.2:\n",
      "      Successfully uninstalled matplotlib-3.6.2\n",
      "  Attempting uninstall: torchvision\n",
      "    Found existing installation: torchvision 0.15.2+cu117\n",
      "    Uninstalling torchvision-0.15.2+cu117:\n",
      "      Successfully uninstalled torchvision-0.15.2+cu117\n",
      "Successfully installed SAM-2-1.0 antlr4-python3-runtime-4.9.3 eva-decord-0.6.1 hydra-core-1.3.2 iopath-0.1.10 matplotlib-3.9.2 omegaconf-2.3.0 pillow-11.0.0 portalocker-2.10.1 sympy-1.13.1 torch-2.5.1 torchvision-0.20.1\n"
     ]
    }
   ],
   "source": [
    "pip install -e \".[notebooks]\""
   ]
  }
 ],
 "metadata": {
  "kernelspec": {
   "display_name": "Python 3",
   "language": "python",
   "name": "python3"
  },
  "language_info": {
   "codemirror_mode": {
    "name": "ipython",
    "version": 3
   },
   "file_extension": ".py",
   "mimetype": "text/x-python",
   "name": "python",
   "nbconvert_exporter": "python",
   "pygments_lexer": "ipython3",
   "version": "3.11.0"
  }
 },
 "nbformat": 4,
 "nbformat_minor": 2
}
